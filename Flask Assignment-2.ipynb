{
 "cells": [
  {
   "cell_type": "markdown",
   "id": "498e3b3d-76af-479c-a662-2c757396dbda",
   "metadata": {},
   "source": [
    "Q1. Explain GET and POST methods."
   ]
  },
  {
   "cell_type": "markdown",
   "id": "5d3aa7cc-613d-48d1-950d-d4c6b963361c",
   "metadata": {},
   "source": [
    "GET and POST are two HTTP methods used for communication between a client (such as a web browser) and a server. These methods define how data is sent from the client to the server and how the server responds to the client's request.\n",
    "\n",
    "GET Method:\n",
    "\n",
    "The GET method is used to retrieve or fetch data from the server.\n",
    "When a client sends a GET request, the parameters and data are appended to the URL in the form of query strings.\n",
    "GET requests are generally used for safe and idempotent operations, meaning they should not have any side effects on the server or the data.\n",
    "GET requests can be bookmarked, cached, and shared, as the parameters are visible in the URL.\n",
    "Examples of GET requests include fetching web pages, retrieving data from a database, or requesting static resources like images or stylesheets.\n",
    "POST Method:\n",
    "\n",
    "The POST method is used to send data to the server for processing or to create/update a resource on the server.\n",
    "When a client sends a POST request, the data is sent in the body of the request, separate from the URL.\n",
    "POST requests are not visible in the URL, making them more secure for sending sensitive or large amounts of data.\n",
    "POST requests are not cached or bookmarked by default and cannot be easily shared.\n",
    "POST requests can have side effects on the server or the data, such as creating a new record in a database or updating an existing resource.\n",
    "Examples of POST requests include submitting a form, sending user input, or uploading files to the server."
   ]
  },
  {
   "cell_type": "markdown",
   "id": "c5cd5b7b-b64f-4c37-b97c-b773243101e8",
   "metadata": {},
   "source": [
    "Q2. Why is request used in Flask?"
   ]
  },
  {
   "cell_type": "markdown",
   "id": "8c9351da-52a6-412a-b595-14ae658d34fa",
   "metadata": {},
   "source": [
    "In Flask, the request object is used to access incoming request data from the client. It provides access to various information related to the HTTP request being made, such as form data, query parameters, headers, cookies, and more. The request object is an instance of the Request class, which is part of the Flask framework.\n",
    "\n",
    "Here are some reasons why the request object is used in Flask:\n",
    "\n",
    "Accessing Form Data: When a client submits an HTML form, the form data is sent to the server. The request object allows you to access this form data, retrieve the values entered by the user, and perform any necessary processing or validation.\n",
    "\n",
    "Query Parameters: The request object provides access to the query parameters present in the URL. Query parameters are typically used for filtering or specifying additional information in a request. With the request object, you can easily retrieve and use these parameters in your Flask application.\n",
    "\n",
    "File Uploads: If your Flask application allows file uploads, the request object allows you to access the uploaded files. You can retrieve the uploaded files, save them to the server, perform validation, or process them further as needed.\n",
    "\n",
    "Cookies: Cookies are small pieces of data stored on the client's machine. The request object enables you to access and manipulate cookies associated with a particular request. You can read and set cookies, retrieve their values, and perform cookie-related operations.\n",
    "\n",
    "Request Headers: HTTP headers contain additional information about the request being made. The request object allows you to access these headers, which can be useful for tasks such as authentication, content negotiation, or custom header-based logic.\n",
    "\n",
    "Request Methods: The request object provides information about the HTTP method used in the request (e.g., GET, POST, PUT, DELETE). This can be helpful in determining the appropriate action or behavior based on the method used.\n",
    "\n",
    "By using the request object in Flask, you can access and utilize various aspects of the incoming request data, allowing you to build dynamic and interactive web applications that can process user input, handle form submissions, interact with cookies, and more."
   ]
  },
  {
   "cell_type": "markdown",
   "id": "fc8a2dce-2ed1-489e-bde3-9a6a1fa36967",
   "metadata": {},
   "source": [
    "Q3. Why is redirect() used in Flask?"
   ]
  },
  {
   "cell_type": "markdown",
   "id": "0007fc16-c07b-42db-887d-9dc1dec8f105",
   "metadata": {},
   "source": [
    "In Flask, the redirect() function is used to redirect the user to a different URL or route. It is a commonly used function for controlling the flow of a web application and providing a seamless transition to another page or action.\n",
    "\n",
    "Here are some reasons why the redirect() function is used in Flask:\n",
    "\n",
    "Page Redirection: With redirect(), you can redirect the user to a different page or route within your Flask application. This is useful for handling situations where you want to direct the user to a different part of the application after a certain action or event.\n",
    "\n",
    "Post-Submission Redirect: After a user submits a form or performs some action that modifies data on the server, it is often a best practice to redirect them to a different page rather than simply rendering a static \"success\" message. The redirect() function allows you to redirect the user to a designated \"success\" page or another relevant location after the submission.\n",
    "\n",
    "URL Cleanliness: redirect() can be used to enforce cleaner and more user-friendly URLs. For example, if a user is accessing a page with multiple query parameters or a complicated URL, you can use redirect() to redirect them to a cleaner, simplified URL that is easier to read and understand.\n",
    "\n",
    "Conditional Redirects: Depending on certain conditions or business logic, you may need to redirect the user to different pages or routes. The redirect() function allows you to dynamically determine the redirect URL based on specific conditions, such as user authentication status, permissions, or any other custom criteria.\n",
    "\n",
    "Handling Errors or Invalid Requests: When encountering an error or an invalid request, it is often desirable to redirect the user to an error page or a predefined error handling route. The redirect() function enables you to gracefully handle such situations and provide users with meaningful feedback or instructions.\n",
    "\n",
    "Overall, the redirect() function in Flask provides a convenient way to control the flow of your application, redirect users to different URLs, handle form submissions, enforce cleaner URLs, and handle errors or invalid requests in a user-friendly manner."
   ]
  },
  {
   "cell_type": "markdown",
   "id": "7f3ce946-fcb5-468c-b828-b420eeef0a4d",
   "metadata": {},
   "source": [
    "Q4. What are templates in Flask? Why is the render_template() function used?"
   ]
  },
  {
   "cell_type": "markdown",
   "id": "03e13e76-3d35-4f79-bf41-a28b00b10f3b",
   "metadata": {},
   "source": [
    "In Flask, templates are files that contain the structure and layout of web pages. They are typically written in HTML or a template language (such as Jinja2) that allows for dynamic content rendering. Templates separate the presentation logic from the application logic, enabling developers to build reusable and maintainable web pages.\n",
    "\n",
    "The render_template() function is used to render and display these templates in Flask. It takes the name of the template file as an argument and dynamically generates the HTML content by replacing any placeholders or variables in the template with actual values. The rendered HTML is then sent as a response to the client's web browser.\n",
    "\n",
    "Here are some reasons why the render_template() function is used in Flask:\n",
    "\n",
    "Dynamic Content: Templates in Flask are used to generate dynamic content by combining static HTML with data retrieved from the application. The render_template() function allows you to pass data to the template, which can be variables, objects, or even query results from a database. The template engine (e.g., Jinja2) replaces the placeholders in the template with the provided data, resulting in a customized and dynamic HTML page.\n",
    "\n",
    "Code Reusability: Templates enable code reusability by allowing you to define common layouts and components that can be shared across multiple pages. With the render_template() function, you can easily render these templates in different routes or views, avoiding code duplication and improving maintainability.\n",
    "\n",
    "Separation of Concerns: By using templates, you can separate the presentation logic (HTML and CSS) from the application logic (Python code). This separation makes it easier to manage and update the visual aspects of your application without modifying the underlying functionality. The render_template() function plays a crucial role in this separation by handling the rendering and integration of the templates within the Flask application.\n",
    "\n",
    "Template Inheritance: Templates in Flask can be organized hierarchically using template inheritance. The render_template() function supports this feature, allowing you to create a base template with common elements (e.g., header, footer, navigation) and extend or override specific sections in child templates. This inheritance mechanism helps maintain consistent designs across multiple pages while allowing customization as needed.\n",
    "\n",
    "Template Extensions: Flask allows you to extend the functionality of templates by using template extensions or filters. These extensions provide additional features like date formatting, string manipulation, and more. The render_template() function integrates these extensions, enabling you to utilize their capabilities in the rendered templates.\n",
    "\n",
    "In summary, templates in Flask are used to generate dynamic web pages by combining static HTML with application data. The render_template() function plays a pivotal role in this process by rendering the templates, replacing placeholders with actual data, and providing the final HTML output to the client's browser. It enables code reusability, separation of concerns, hierarchical template structures, and the utilization of template extensions and filters."
   ]
  },
  {
   "cell_type": "markdown",
   "id": "4c7aa54c-6ffe-4ad4-966a-13a208258a74",
   "metadata": {},
   "source": [
    "Q5. Create a simple API. Use Postman to test it. Attach the screenshot of the output in the Jupyter Notebook."
   ]
  },
  {
   "cell_type": "code",
   "execution_count": 4,
   "id": "f13214e3-5238-4d2c-8813-e8115888e956",
   "metadata": {},
   "outputs": [
    {
     "ename": "FileNotFoundError",
     "evalue": "No such file or directory: 'pwskills.png'",
     "output_type": "error",
     "traceback": [
      "\u001b[0;31m---------------------------------------------------------------------------\u001b[0m",
      "\u001b[0;31mTypeError\u001b[0m                                 Traceback (most recent call last)",
      "File \u001b[0;32m/opt/conda/lib/python3.10/site-packages/IPython/core/display.py:1045\u001b[0m, in \u001b[0;36mImage._data_and_metadata\u001b[0;34m(self, always_both)\u001b[0m\n\u001b[1;32m   1044\u001b[0m \u001b[38;5;28;01mtry\u001b[39;00m:\n\u001b[0;32m-> 1045\u001b[0m     b64_data \u001b[38;5;241m=\u001b[39m \u001b[43mb2a_base64\u001b[49m\u001b[43m(\u001b[49m\u001b[38;5;28;43mself\u001b[39;49m\u001b[38;5;241;43m.\u001b[39;49m\u001b[43mdata\u001b[49m\u001b[43m)\u001b[49m\u001b[38;5;241m.\u001b[39mdecode(\u001b[38;5;124m'\u001b[39m\u001b[38;5;124mascii\u001b[39m\u001b[38;5;124m'\u001b[39m)\n\u001b[1;32m   1046\u001b[0m \u001b[38;5;28;01mexcept\u001b[39;00m \u001b[38;5;167;01mTypeError\u001b[39;00m \u001b[38;5;28;01mas\u001b[39;00m e:\n",
      "\u001b[0;31mTypeError\u001b[0m: a bytes-like object is required, not 'str'",
      "\nThe above exception was the direct cause of the following exception:\n",
      "\u001b[0;31mFileNotFoundError\u001b[0m                         Traceback (most recent call last)",
      "File \u001b[0;32m/opt/conda/lib/python3.10/site-packages/IPython/core/formatters.py:972\u001b[0m, in \u001b[0;36mMimeBundleFormatter.__call__\u001b[0;34m(self, obj, include, exclude)\u001b[0m\n\u001b[1;32m    969\u001b[0m     method \u001b[38;5;241m=\u001b[39m get_real_method(obj, \u001b[38;5;28mself\u001b[39m\u001b[38;5;241m.\u001b[39mprint_method)\n\u001b[1;32m    971\u001b[0m     \u001b[38;5;28;01mif\u001b[39;00m method \u001b[38;5;129;01mis\u001b[39;00m \u001b[38;5;129;01mnot\u001b[39;00m \u001b[38;5;28;01mNone\u001b[39;00m:\n\u001b[0;32m--> 972\u001b[0m         \u001b[38;5;28;01mreturn\u001b[39;00m \u001b[43mmethod\u001b[49m\u001b[43m(\u001b[49m\u001b[43minclude\u001b[49m\u001b[38;5;241;43m=\u001b[39;49m\u001b[43minclude\u001b[49m\u001b[43m,\u001b[49m\u001b[43m \u001b[49m\u001b[43mexclude\u001b[49m\u001b[38;5;241;43m=\u001b[39;49m\u001b[43mexclude\u001b[49m\u001b[43m)\u001b[49m\n\u001b[1;32m    973\u001b[0m     \u001b[38;5;28;01mreturn\u001b[39;00m \u001b[38;5;28;01mNone\u001b[39;00m\n\u001b[1;32m    974\u001b[0m \u001b[38;5;28;01melse\u001b[39;00m:\n",
      "File \u001b[0;32m/opt/conda/lib/python3.10/site-packages/IPython/core/display.py:1035\u001b[0m, in \u001b[0;36mImage._repr_mimebundle_\u001b[0;34m(self, include, exclude)\u001b[0m\n\u001b[1;32m   1033\u001b[0m \u001b[38;5;28;01mif\u001b[39;00m \u001b[38;5;28mself\u001b[39m\u001b[38;5;241m.\u001b[39membed:\n\u001b[1;32m   1034\u001b[0m     mimetype \u001b[38;5;241m=\u001b[39m \u001b[38;5;28mself\u001b[39m\u001b[38;5;241m.\u001b[39m_mimetype\n\u001b[0;32m-> 1035\u001b[0m     data, metadata \u001b[38;5;241m=\u001b[39m \u001b[38;5;28;43mself\u001b[39;49m\u001b[38;5;241;43m.\u001b[39;49m\u001b[43m_data_and_metadata\u001b[49m\u001b[43m(\u001b[49m\u001b[43malways_both\u001b[49m\u001b[38;5;241;43m=\u001b[39;49m\u001b[38;5;28;43;01mTrue\u001b[39;49;00m\u001b[43m)\u001b[49m\n\u001b[1;32m   1036\u001b[0m     \u001b[38;5;28;01mif\u001b[39;00m metadata:\n\u001b[1;32m   1037\u001b[0m         metadata \u001b[38;5;241m=\u001b[39m {mimetype: metadata}\n",
      "File \u001b[0;32m/opt/conda/lib/python3.10/site-packages/IPython/core/display.py:1047\u001b[0m, in \u001b[0;36mImage._data_and_metadata\u001b[0;34m(self, always_both)\u001b[0m\n\u001b[1;32m   1045\u001b[0m     b64_data \u001b[38;5;241m=\u001b[39m b2a_base64(\u001b[38;5;28mself\u001b[39m\u001b[38;5;241m.\u001b[39mdata)\u001b[38;5;241m.\u001b[39mdecode(\u001b[38;5;124m'\u001b[39m\u001b[38;5;124mascii\u001b[39m\u001b[38;5;124m'\u001b[39m)\n\u001b[1;32m   1046\u001b[0m \u001b[38;5;28;01mexcept\u001b[39;00m \u001b[38;5;167;01mTypeError\u001b[39;00m \u001b[38;5;28;01mas\u001b[39;00m e:\n\u001b[0;32m-> 1047\u001b[0m     \u001b[38;5;28;01mraise\u001b[39;00m \u001b[38;5;167;01mFileNotFoundError\u001b[39;00m(\n\u001b[1;32m   1048\u001b[0m         \u001b[38;5;124m\"\u001b[39m\u001b[38;5;124mNo such file or directory: \u001b[39m\u001b[38;5;124m'\u001b[39m\u001b[38;5;132;01m%s\u001b[39;00m\u001b[38;5;124m'\u001b[39m\u001b[38;5;124m\"\u001b[39m \u001b[38;5;241m%\u001b[39m (\u001b[38;5;28mself\u001b[39m\u001b[38;5;241m.\u001b[39mdata)) \u001b[38;5;28;01mfrom\u001b[39;00m \u001b[38;5;21;01me\u001b[39;00m\n\u001b[1;32m   1049\u001b[0m md \u001b[38;5;241m=\u001b[39m {}\n\u001b[1;32m   1050\u001b[0m \u001b[38;5;28;01mif\u001b[39;00m \u001b[38;5;28mself\u001b[39m\u001b[38;5;241m.\u001b[39mmetadata:\n",
      "\u001b[0;31mFileNotFoundError\u001b[0m: No such file or directory: 'pwskills.png'"
     ]
    },
    {
     "ename": "FileNotFoundError",
     "evalue": "No such file or directory: 'pwskills.png'",
     "output_type": "error",
     "traceback": [
      "\u001b[0;31m---------------------------------------------------------------------------\u001b[0m",
      "\u001b[0;31mTypeError\u001b[0m                                 Traceback (most recent call last)",
      "File \u001b[0;32m/opt/conda/lib/python3.10/site-packages/IPython/core/display.py:1045\u001b[0m, in \u001b[0;36mImage._data_and_metadata\u001b[0;34m(self, always_both)\u001b[0m\n\u001b[1;32m   1044\u001b[0m \u001b[38;5;28;01mtry\u001b[39;00m:\n\u001b[0;32m-> 1045\u001b[0m     b64_data \u001b[38;5;241m=\u001b[39m \u001b[43mb2a_base64\u001b[49m\u001b[43m(\u001b[49m\u001b[38;5;28;43mself\u001b[39;49m\u001b[38;5;241;43m.\u001b[39;49m\u001b[43mdata\u001b[49m\u001b[43m)\u001b[49m\u001b[38;5;241m.\u001b[39mdecode(\u001b[38;5;124m'\u001b[39m\u001b[38;5;124mascii\u001b[39m\u001b[38;5;124m'\u001b[39m)\n\u001b[1;32m   1046\u001b[0m \u001b[38;5;28;01mexcept\u001b[39;00m \u001b[38;5;167;01mTypeError\u001b[39;00m \u001b[38;5;28;01mas\u001b[39;00m e:\n",
      "\u001b[0;31mTypeError\u001b[0m: a bytes-like object is required, not 'str'",
      "\nThe above exception was the direct cause of the following exception:\n",
      "\u001b[0;31mFileNotFoundError\u001b[0m                         Traceback (most recent call last)",
      "File \u001b[0;32m/opt/conda/lib/python3.10/site-packages/IPython/core/formatters.py:342\u001b[0m, in \u001b[0;36mBaseFormatter.__call__\u001b[0;34m(self, obj)\u001b[0m\n\u001b[1;32m    340\u001b[0m     method \u001b[38;5;241m=\u001b[39m get_real_method(obj, \u001b[38;5;28mself\u001b[39m\u001b[38;5;241m.\u001b[39mprint_method)\n\u001b[1;32m    341\u001b[0m     \u001b[38;5;28;01mif\u001b[39;00m method \u001b[38;5;129;01mis\u001b[39;00m \u001b[38;5;129;01mnot\u001b[39;00m \u001b[38;5;28;01mNone\u001b[39;00m:\n\u001b[0;32m--> 342\u001b[0m         \u001b[38;5;28;01mreturn\u001b[39;00m \u001b[43mmethod\u001b[49m\u001b[43m(\u001b[49m\u001b[43m)\u001b[49m\n\u001b[1;32m    343\u001b[0m     \u001b[38;5;28;01mreturn\u001b[39;00m \u001b[38;5;28;01mNone\u001b[39;00m\n\u001b[1;32m    344\u001b[0m \u001b[38;5;28;01melse\u001b[39;00m:\n",
      "File \u001b[0;32m/opt/conda/lib/python3.10/site-packages/IPython/core/display.py:1067\u001b[0m, in \u001b[0;36mImage._repr_png_\u001b[0;34m(self)\u001b[0m\n\u001b[1;32m   1065\u001b[0m \u001b[38;5;28;01mdef\u001b[39;00m \u001b[38;5;21m_repr_png_\u001b[39m(\u001b[38;5;28mself\u001b[39m):\n\u001b[1;32m   1066\u001b[0m     \u001b[38;5;28;01mif\u001b[39;00m \u001b[38;5;28mself\u001b[39m\u001b[38;5;241m.\u001b[39membed \u001b[38;5;129;01mand\u001b[39;00m \u001b[38;5;28mself\u001b[39m\u001b[38;5;241m.\u001b[39mformat \u001b[38;5;241m==\u001b[39m \u001b[38;5;28mself\u001b[39m\u001b[38;5;241m.\u001b[39m_FMT_PNG:\n\u001b[0;32m-> 1067\u001b[0m         \u001b[38;5;28;01mreturn\u001b[39;00m \u001b[38;5;28;43mself\u001b[39;49m\u001b[38;5;241;43m.\u001b[39;49m\u001b[43m_data_and_metadata\u001b[49m\u001b[43m(\u001b[49m\u001b[43m)\u001b[49m\n",
      "File \u001b[0;32m/opt/conda/lib/python3.10/site-packages/IPython/core/display.py:1047\u001b[0m, in \u001b[0;36mImage._data_and_metadata\u001b[0;34m(self, always_both)\u001b[0m\n\u001b[1;32m   1045\u001b[0m     b64_data \u001b[38;5;241m=\u001b[39m b2a_base64(\u001b[38;5;28mself\u001b[39m\u001b[38;5;241m.\u001b[39mdata)\u001b[38;5;241m.\u001b[39mdecode(\u001b[38;5;124m'\u001b[39m\u001b[38;5;124mascii\u001b[39m\u001b[38;5;124m'\u001b[39m)\n\u001b[1;32m   1046\u001b[0m \u001b[38;5;28;01mexcept\u001b[39;00m \u001b[38;5;167;01mTypeError\u001b[39;00m \u001b[38;5;28;01mas\u001b[39;00m e:\n\u001b[0;32m-> 1047\u001b[0m     \u001b[38;5;28;01mraise\u001b[39;00m \u001b[38;5;167;01mFileNotFoundError\u001b[39;00m(\n\u001b[1;32m   1048\u001b[0m         \u001b[38;5;124m\"\u001b[39m\u001b[38;5;124mNo such file or directory: \u001b[39m\u001b[38;5;124m'\u001b[39m\u001b[38;5;132;01m%s\u001b[39;00m\u001b[38;5;124m'\u001b[39m\u001b[38;5;124m\"\u001b[39m \u001b[38;5;241m%\u001b[39m (\u001b[38;5;28mself\u001b[39m\u001b[38;5;241m.\u001b[39mdata)) \u001b[38;5;28;01mfrom\u001b[39;00m \u001b[38;5;21;01me\u001b[39;00m\n\u001b[1;32m   1049\u001b[0m md \u001b[38;5;241m=\u001b[39m {}\n\u001b[1;32m   1050\u001b[0m \u001b[38;5;28;01mif\u001b[39;00m \u001b[38;5;28mself\u001b[39m\u001b[38;5;241m.\u001b[39mmetadata:\n",
      "\u001b[0;31mFileNotFoundError\u001b[0m: No such file or directory: 'pwskills.png'"
     ]
    },
    {
     "data": {
      "text/plain": [
       "<IPython.core.display.Image object>"
      ]
     },
     "execution_count": 4,
     "metadata": {},
     "output_type": "execute_result"
    }
   ],
   "source": [
    "from IPython import display\n",
    "display.Image(\"pwskills.png\")"
   ]
  },
  {
   "cell_type": "code",
   "execution_count": null,
   "id": "f891fda8-10a0-4d71-a314-9a4077c110f2",
   "metadata": {},
   "outputs": [],
   "source": []
  }
 ],
 "metadata": {
  "kernelspec": {
   "display_name": "Python 3 (ipykernel)",
   "language": "python",
   "name": "python3"
  },
  "language_info": {
   "codemirror_mode": {
    "name": "ipython",
    "version": 3
   },
   "file_extension": ".py",
   "mimetype": "text/x-python",
   "name": "python",
   "nbconvert_exporter": "python",
   "pygments_lexer": "ipython3",
   "version": "3.10.8"
  }
 },
 "nbformat": 4,
 "nbformat_minor": 5
}
